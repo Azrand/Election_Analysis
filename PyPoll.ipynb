{
 "cells": [
  {
   "cell_type": "code",
   "execution_count": 1,
   "id": "a882a824",
   "metadata": {},
   "outputs": [],
   "source": [
    "# Objectives for this project\n",
    "# 1) Total Number of Votes Cast\n",
    "# 2) A Complete list of candidates who received votes\n",
    "# 3) Percentage of Votes each candidate won\n",
    "# 4) The total number of votes each candidate won\n",
    "# 5) The winner of the election based on popular vote"
   ]
  },
  {
   "cell_type": "code",
   "execution_count": null,
   "id": "4e3c94a6",
   "metadata": {},
   "outputs": [],
   "source": [
    "# Create the now time variable\n",
    "\n",
    "now = dt.datetime.now()"
   ]
  },
  {
   "cell_type": "code",
   "execution_count": 60,
   "id": "63130689",
   "metadata": {},
   "outputs": [
    {
     "name": "stdout",
     "output_type": "stream",
     "text": [
      "{'Charles Casper Stockham': 0, 'Diana DeGette': 0, 'Raymon Anthony Doane': 0}\n"
     ]
    }
   ],
   "source": [
    "# Add our dependencies.\n",
    "import csv\n",
    "import os\n",
    "# Assign a variable to load a file from a path.\n",
    "file_to_load = os.path.join(\"election_results.csv\")\n",
    "# Assign a variable to save the file to a path.\n",
    "file_to_save = os.path.join(\"analysis\", \"election_analysis.txt\")\n",
    "\n",
    "# Initialize a total vote counter.\n",
    "total_votes = 0\n",
    "\n",
    "# Candidate options and candidate votes\n",
    "candidate_options = []\n",
    "# 1. Declare the empty dictionary.\n",
    "candidate_votes = {}\n",
    "\n",
    "# Open the election results and read the file.\n",
    "with open(file_to_load) as election_data:\n",
    "    file_reader = csv.reader(election_data)\n",
    "\n",
    "    # Read the header row.\n",
    "    headers = next(file_reader)\n",
    "\n",
    "    # Print each row in the CSV file.\n",
    "    for row in file_reader:\n",
    "        # Add to the total vote count.\n",
    "        total_votes += 1\n",
    "\n",
    "        # Print the candidate name from each row.\n",
    "        candidate_name = row[2]\n",
    "\n",
    "        if candidate_name not in candidate_options:\n",
    "          # Add the candidate name to the candidate list.\n",
    "            candidate_options.append(candidate_name)\n",
    "\n",
    "           # 2. Begin tracking that candidate's vote count.\n",
    "            candidate_votes[candidate_name] = 0\n",
    "\n",
    "\n",
    "# Print the candidate vote dictionary.\n",
    "print(candidate_votes)"
   ]
  },
  {
   "cell_type": "code",
   "execution_count": null,
   "id": "1236106e",
   "metadata": {},
   "outputs": [],
   "source": []
  }
 ],
 "metadata": {
  "kernelspec": {
   "display_name": "Python 3 (ipykernel)",
   "language": "python",
   "name": "python3"
  },
  "language_info": {
   "codemirror_mode": {
    "name": "ipython",
    "version": 3
   },
   "file_extension": ".py",
   "mimetype": "text/x-python",
   "name": "python",
   "nbconvert_exporter": "python",
   "pygments_lexer": "ipython3",
   "version": "3.9.13"
  }
 },
 "nbformat": 4,
 "nbformat_minor": 5
}
